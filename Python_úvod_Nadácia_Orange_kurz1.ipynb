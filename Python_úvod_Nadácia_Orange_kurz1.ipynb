{
  "nbformat": 4,
  "nbformat_minor": 0,
  "metadata": {
    "colab": {
      "provenance": [],
      "authorship_tag": "ABX9TyOs6sjw9m5bY7lQpBbk0o2X",
      "include_colab_link": true
    },
    "kernelspec": {
      "name": "python3",
      "display_name": "Python 3"
    },
    "language_info": {
      "name": "python"
    }
  },
  "cells": [
    {
      "cell_type": "markdown",
      "metadata": {
        "id": "view-in-github",
        "colab_type": "text"
      },
      "source": [
        "<a href=\"https://colab.research.google.com/github/janastadtruckerova/Introduction-to-Python/blob/main/Python_%C3%BAvod_Nad%C3%A1cia_Orange_kurz1.ipynb\" target=\"_parent\"><img src=\"https://colab.research.google.com/assets/colab-badge.svg\" alt=\"Open In Colab\"/></a>"
      ]
    },
    {
      "cell_type": "code",
      "execution_count": null,
      "metadata": {
        "id": "oLJ2LVl0I6L5"
      },
      "outputs": [],
      "source": []
    },
    {
      "cell_type": "markdown",
      "source": [],
      "metadata": {
        "id": "APJv5YycI7o5"
      }
    },
    {
      "cell_type": "markdown",
      "source": [
        "**Premenné**\n"
      ],
      "metadata": {
        "id": "LgQawniYJH5I"
      }
    },
    {
      "cell_type": "markdown",
      "source": [],
      "metadata": {
        "id": "9mvb_NUVJ50r"
      }
    },
    {
      "cell_type": "code",
      "source": [
        "meno = \"Jana\"\n",
        "vek = 54\n",
        "print(f\"Moje meno je {meno}, a mám {vek} rokov.\")"
      ],
      "metadata": {
        "colab": {
          "base_uri": "https://localhost:8080/"
        },
        "id": "rkhaHiurKeHK",
        "outputId": "f72ce89c-018c-4b5c-92ec-1c98075d21fa"
      },
      "execution_count": null,
      "outputs": [
        {
          "output_type": "stream",
          "name": "stdout",
          "text": [
            "Moje meno je Jana, a mám 54 rokov.\n"
          ]
        }
      ]
    },
    {
      "cell_type": "markdown",
      "source": [
        "V tomto kóde používame f-string (poznáte ho podľa písmena f pred úvodzovkami), kde môžete priamo vkladať premenné do reťazca pomocou zátvoriek {}."
      ],
      "metadata": {
        "id": "XKeOCGgFL4m4"
      }
    },
    {
      "cell_type": "code",
      "source": [
        "meno = \"Jana Stadtruckerova\"\n",
        "vek = 54\n",
        "print(f\"Moje meno je {meno}, a mám {vek} rokov.\")"
      ],
      "metadata": {
        "colab": {
          "base_uri": "https://localhost:8080/"
        },
        "id": "_xlr6SW9MHXG",
        "outputId": "2b73b597-67d0-47f9-ac7f-e36ae920ef0f"
      },
      "execution_count": null,
      "outputs": [
        {
          "output_type": "stream",
          "name": "stdout",
          "text": [
            "Moje meno je Jana Stadtruckerova, a mám 54 rokov.\n"
          ]
        }
      ]
    },
    {
      "cell_type": "markdown",
      "source": [],
      "metadata": {
        "id": "-vcqt76zVKHC"
      }
    },
    {
      "cell_type": "code",
      "source": [
        "a = 10\n",
        "b = 20\n",
        "print(a+b)\n",
        "print(a-b)\n",
        "print(a*b)"
      ],
      "metadata": {
        "colab": {
          "base_uri": "https://localhost:8080/"
        },
        "id": "9FmF2KbUMZkD",
        "outputId": "ea0c8ef7-f2c0-4670-de99-ddc7c0a4fede"
      },
      "execution_count": null,
      "outputs": [
        {
          "output_type": "stream",
          "name": "stdout",
          "text": [
            "30\n",
            "-10\n",
            "200\n"
          ]
        }
      ]
    },
    {
      "cell_type": "code",
      "source": [
        "x=10\n",
        "y=20\n",
        "x=5\n",
        "y=8\n",
        "print(x,y)"
      ],
      "metadata": {
        "colab": {
          "base_uri": "https://localhost:8080/"
        },
        "id": "SwDDBxz8M6J-",
        "outputId": "a9b15e7f-531d-4d6c-d5e9-1edc5a096641"
      },
      "execution_count": null,
      "outputs": [
        {
          "output_type": "stream",
          "name": "stdout",
          "text": [
            "5 8\n"
          ]
        }
      ]
    },
    {
      "cell_type": "markdown",
      "source": [
        "Výpočet obvodu a plochykruhu"
      ],
      "metadata": {
        "id": "Nqa4itxBN9MI"
      }
    },
    {
      "cell_type": "code",
      "source": [
        "polomer = 5\n",
        "pi = 3.14159\n",
        "obvod = 2 * pi * polomer\n",
        "plocha = pi * polomer**2\n",
        "print(f\"Obvod kruhu: {obvod}, Plocha kruhu: {plocha}\")\n"
      ],
      "metadata": {
        "colab": {
          "base_uri": "https://localhost:8080/"
        },
        "id": "ksjhWiRyOCYf",
        "outputId": "8289f83a-5f0c-4800-df47-78f2e5c2e8ae"
      },
      "execution_count": null,
      "outputs": [
        {
          "output_type": "stream",
          "name": "stdout",
          "text": [
            "Obvod kruhu: 31.4159, Plocha kruhu: 78.53975\n"
          ]
        }
      ]
    },
    {
      "cell_type": "code",
      "source": [
        "teplota_c= 20\n",
        "teplota_f= teplota_c*9/5+32\n",
        "print(f\"Teplota v Fahrenheitoch: {teplota_f}\")\n"
      ],
      "metadata": {
        "colab": {
          "base_uri": "https://localhost:8080/"
        },
        "id": "vF_4SPtNPcrv",
        "outputId": "0845c59a-2819-4cbb-a349-5e1bb972a834"
      },
      "execution_count": null,
      "outputs": [
        {
          "output_type": "stream",
          "name": "stdout",
          "text": [
            "Teplota v Fahrenheitoch: 68.0\n"
          ]
        }
      ]
    },
    {
      "cell_type": "code",
      "source": [
        "a=5\n",
        "b=4\n",
        "c=10\n",
        "priemer=(a+b+c)/3\n",
        "print(priemer)\n",
        "print(f\"Priemer čísel {a}, {b} a {c} je {priemer}\")"
      ],
      "metadata": {
        "colab": {
          "base_uri": "https://localhost:8080/"
        },
        "id": "e7zimsIQQMsn",
        "outputId": "9421104c-22fa-4d8d-b903-58d55b2198f7"
      },
      "execution_count": null,
      "outputs": [
        {
          "output_type": "stream",
          "name": "stdout",
          "text": [
            "6.333333333333333\n",
            "Priemer čísel 5, 4 a 10 je 6.333333333333333\n"
          ]
        }
      ]
    },
    {
      "cell_type": "code",
      "source": [
        "x=10\n",
        "str_x=str(x)\n",
        "float_x=float(x)\n",
        "print(str_x)\n",
        "print(float_x)"
      ],
      "metadata": {
        "colab": {
          "base_uri": "https://localhost:8080/"
        },
        "id": "s46CHKpbRIWX",
        "outputId": "f62990b2-3706-465b-8ec7-72bdbe2bec7b"
      },
      "execution_count": null,
      "outputs": [
        {
          "output_type": "stream",
          "name": "stdout",
          "text": [
            "10\n",
            "10.0\n"
          ]
        }
      ]
    },
    {
      "cell_type": "code",
      "source": [
        "dni=7\n",
        "hodiny=dni*24\n",
        "print(hodiny)"
      ],
      "metadata": {
        "colab": {
          "base_uri": "https://localhost:8080/"
        },
        "id": "WUYUSVRdSFwj",
        "outputId": "b1babd62-1c3d-44ce-c511-356067948e15"
      },
      "execution_count": null,
      "outputs": [
        {
          "output_type": "stream",
          "name": "stdout",
          "text": [
            "168\n"
          ]
        }
      ]
    },
    {
      "cell_type": "markdown",
      "source": [
        "**Podmienky**"
      ],
      "metadata": {
        "id": "JSedTvQhhRpK"
      }
    },
    {
      "cell_type": "markdown",
      "source": [
        "Zadanie známky podľa bodov\n",
        "Vytvorte premennú body a priraďte jej hodnotu.\n",
        "Napíšte podmienku, ktorá priradí známku na základe získaných bodov:\n",
        "Body >= 90: Známka „A“\n",
        "Body >= 80: Známka „B“\n",
        "Body >= 70: Známka „C“\n",
        "Body >= 60: Známka „D“\n",
        "Menej ako 60: Známka „F“"
      ],
      "metadata": {
        "id": "so_KoFhFhUiF"
      }
    },
    {
      "cell_type": "code",
      "source": [
        "body=50\n",
        "if body>=90:\n",
        "  print(\"Známka A\")\n",
        "elif body >=80:\n",
        "    print(\"Známka B\")\n",
        "elif body>=70:\n",
        "    print(\"Známka C\")\n",
        "elif body>=60:\n",
        "      print(\"Známka D\")\n",
        "else:\n",
        "        print(\"Menej ako 60:známka F\")"
      ],
      "metadata": {
        "colab": {
          "base_uri": "https://localhost:8080/"
        },
        "id": "i5Yr49SthcVf",
        "outputId": "f78635cf-8ccf-449a-cb03-01df1d7a5571"
      },
      "execution_count": null,
      "outputs": [
        {
          "output_type": "stream",
          "name": "stdout",
          "text": [
            "Menej ako 60:známka F\n"
          ]
        }
      ]
    },
    {
      "cell_type": "code",
      "source": [
        "body=input(\"Zadaj skore:\")\n",
        "if int(body)>=90:\n",
        "  print(\"Známka A\")\n",
        "elif int(body) >=80:\n",
        "    print(\"Známka B\")\n",
        "elif int(body)>=70:\n",
        "    print(\"Známka C\")\n",
        "elif int(body)>=60:\n",
        "      print(\"Známka D\")\n",
        "else:\n",
        "        print(\"Menej ako 60:známka F\")\n",
        "\n"
      ],
      "metadata": {
        "id": "2xrx-ORGjnnu",
        "colab": {
          "base_uri": "https://localhost:8080/"
        },
        "outputId": "3589ef65-7ec6-4909-9f27-0849a69ff31f"
      },
      "execution_count": null,
      "outputs": [
        {
          "output_type": "stream",
          "name": "stdout",
          "text": [
            "Zadaj skore:30\n",
            "Menej ako 60:známka F\n"
          ]
        }
      ]
    },
    {
      "cell_type": "markdown",
      "source": [
        "Kategorizácia veku\n",
        "Vytvorte premennú vek a priraďte jej hodnotu.\n",
        "Napíšte podmienku, ktorá rozdelí osobu do kategórie podľa veku:\n",
        "Mladší ako 18: „Neplnoletý“\n",
        "Medzi 18 a 65: „Dospelý“\n",
        "Starší ako 65: „Dôchodca“"
      ],
      "metadata": {
        "id": "16D8CmUQknp_"
      }
    },
    {
      "cell_type": "code",
      "source": [
        "vek = input(\"zadaj svoj vek:\")\n",
        "vek = int(vek)  # Convert the input to an integer\n",
        "\n",
        "if vek < 18:\n",
        "    print(\"neplnoletý\")\n",
        "elif vek >= 18 and vek < 65:\n",
        "    print(\"dospelý\")\n",
        "elif vek > 65:\n",
        "    print(\"dôchodca\")"
      ],
      "metadata": {
        "id": "n-WVg40SkqRG",
        "colab": {
          "base_uri": "https://localhost:8080/"
        },
        "outputId": "87beee82-8756-4ccd-ed34-22e58cc5ce8b"
      },
      "execution_count": null,
      "outputs": [
        {
          "output_type": "stream",
          "name": "stdout",
          "text": [
            "zadaj svoj vek:70\n",
            "dôchodca\n"
          ]
        }
      ]
    },
    {
      "cell_type": "markdown",
      "source": [
        "Teplotná kontrola\n",
        "Vytvorte premennú teplota a priraďte jej hodnotu.\n",
        "Napíšte program, ktorý na základe teploty vypíše jednu z nasledujúcich správ:\n",
        "Teplota nad 30 stupňov: „Je veľmi horúco.“\n",
        "Teplota medzi 20 a 30 stupňov: „Je príjemne.“\n",
        "Teplota medzi 10 a 20 stupňov: „Je chladno.“\n",
        "Teplota pod 10 stupňov: „Je veľmi chladno.“"
      ],
      "metadata": {
        "id": "iFhQmQR4ou1e"
      }
    },
    {
      "cell_type": "code",
      "source": [
        "teplota=input(\"zadaj teplotu\")\n",
        "teplota=int(teplota)\n",
        "if teplota > 30:\n",
        "    print(\"Je veľmi horúco.\")\n",
        "elif 20 <= teplota <= 30:\n",
        "    print(\"Je príjemne.\")\n",
        "elif 10 <= teplota < 20:\n",
        "    print(\"Je chladno.\")\n",
        "else:\n",
        "    print(\"Je veľmi chladno.\")\n",
        "\n"
      ],
      "metadata": {
        "colab": {
          "base_uri": "https://localhost:8080/"
        },
        "id": "Op4bMeIFoy5z",
        "outputId": "3b3932cb-020d-4b9e-8ee6-49700ca5a1c1"
      },
      "execution_count": null,
      "outputs": [
        {
          "output_type": "stream",
          "name": "stdout",
          "text": [
            "zadaj teplotu25\n",
            "Je príjemne.\n"
          ]
        }
      ]
    },
    {
      "cell_type": "markdown",
      "source": [
        "**Funkcie**"
      ],
      "metadata": {
        "id": "rQq8BM9bsT_w"
      }
    },
    {
      "cell_type": "markdown",
      "source": [
        "Zistenie, či je číslo kladné, záporné alebo nulové"
      ],
      "metadata": {
        "id": "5he53FiQPXqe"
      }
    },
    {
      "cell_type": "code",
      "source": [
        "\n",
        "cislo= 25\n",
        "def skontroluj_cislo(cislo):\n",
        "  if cislo>0:\n",
        "    return \"kladne\"\n",
        "  elif cislo<0:\n",
        "    return \"zaporne\"\n",
        "  else:\n",
        "    return \"nula\"\n",
        "print(skontroluj_cislo(cislo))\n",
        "\n",
        "\n",
        "\n"
      ],
      "metadata": {
        "id": "Kqdy38PtsWtv",
        "colab": {
          "base_uri": "https://localhost:8080/"
        },
        "outputId": "d51b320b-6b2f-4555-89d0-19374e10dc90"
      },
      "execution_count": null,
      "outputs": [
        {
          "output_type": "stream",
          "name": "stdout",
          "text": [
            "kladne\n"
          ]
        }
      ]
    },
    {
      "cell_type": "markdown",
      "source": [
        "Zistenie, či môže osoba voliť"
      ],
      "metadata": {
        "id": "dR4a16tNS_CE"
      }
    },
    {
      "cell_type": "code",
      "source": [
        "def moze_volit(vek):\n",
        "  if vek>=18:\n",
        "    return True\n",
        "  else:\n",
        "    return False\n",
        "vek=25\n",
        "print(moze_volit(vek))\n"
      ],
      "metadata": {
        "colab": {
          "base_uri": "https://localhost:8080/"
        },
        "id": "OKSgp8-rTGBE",
        "outputId": "f4875947-723e-4b20-dc34-76b4554b18d7"
      },
      "execution_count": null,
      "outputs": [
        {
          "output_type": "stream",
          "name": "stdout",
          "text": [
            "True\n"
          ]
        }
      ]
    },
    {
      "cell_type": "markdown",
      "source": [
        "Najdi väčšie z dvoch čísel"
      ],
      "metadata": {
        "id": "z-eCt0ryT8yq"
      }
    },
    {
      "cell_type": "code",
      "source": [
        "def najdi_vacsie(cislo1, cislo2):\n",
        "    if cislo1 > cislo2:\n",
        "        return cislo1\n",
        "    else:\n",
        "        return cislo2\n",
        "\n",
        "# Priradenie hodnôt a volanie funkcie\n",
        "cislo1 = 10\n",
        "cislo2 = 5\n",
        "print(najdi_vacsie(cislo1, cislo2))  # Výstup: 10"
      ],
      "metadata": {
        "colab": {
          "base_uri": "https://localhost:8080/"
        },
        "id": "vecDcZe0UHbO",
        "outputId": "e4405071-2066-4aa5-92d1-db6bf1c59d2c"
      },
      "execution_count": null,
      "outputs": [
        {
          "output_type": "stream",
          "name": "stdout",
          "text": [
            "10\n"
          ]
        }
      ]
    },
    {
      "cell_type": "markdown",
      "source": [
        "Zistenie, či je rok priestupný"
      ],
      "metadata": {
        "id": "7nbRbgIDVj7h"
      }
    },
    {
      "cell_type": "code",
      "source": [
        "def je_priestupny_rok(rok):\n",
        "    if rok % 4 == 0:\n",
        "        if rok % 100 == 0:\n",
        "            if rok % 400 == 0:\n",
        "                return True\n",
        "            else:\n",
        "                return False\n",
        "        else:\n",
        "            return True\n",
        "    else:\n",
        "        return False\n",
        "\n",
        "# Test funkcie\n",
        "print(je_priestupny_rok(2020))  # True\n",
        "print(je_priestupny_rok(1900))  # False\n",
        "print(je_priestupny_rok(2000))  # True"
      ],
      "metadata": {
        "colab": {
          "base_uri": "https://localhost:8080/"
        },
        "id": "a0Sfck67VtyV",
        "outputId": "ec557eae-8171-48d7-ee9b-c732d92dd8a7"
      },
      "execution_count": null,
      "outputs": [
        {
          "output_type": "stream",
          "name": "stdout",
          "text": [
            "True\n",
            "False\n",
            "True\n"
          ]
        }
      ]
    },
    {
      "cell_type": "markdown",
      "source": [
        "Zisťovanie vekovej kategórie"
      ],
      "metadata": {
        "id": "NED5tmBFXYKc"
      }
    },
    {
      "cell_type": "code",
      "source": [
        "def vekova_kategoria(vek):\n",
        "    if vek < 13:\n",
        "        return \"Dieťa\"\n",
        "    elif vek <= 19:\n",
        "        return \"Tínedžer\"\n",
        "    else:\n",
        "        return \"Dospelý\"\n",
        "\n",
        "# Test funkcie\n",
        "print(vekova_kategoria(10))  # Dieťa\n",
        "print(vekova_kategoria(15))  # Tínedžer\n",
        "print(vekova_kategoria(25))  # Dospelý"
      ],
      "metadata": {
        "colab": {
          "base_uri": "https://localhost:8080/"
        },
        "id": "PRRQHze4XcNk",
        "outputId": "5145533f-fc0f-43ee-f876-f1a7eed915b8"
      },
      "execution_count": null,
      "outputs": [
        {
          "output_type": "stream",
          "name": "stdout",
          "text": [
            "Dieťa\n",
            "Tínedžer\n",
            "Dospelý\n"
          ]
        }
      ]
    }
  ]
}