{
  "nbformat": 4,
  "nbformat_minor": 0,
  "metadata": {
    "colab": {
      "provenance": [],
      "authorship_tag": "ABX9TyM02h3aAeFLuJCN6LSYvflx",
      "include_colab_link": true
    },
    "kernelspec": {
      "name": "python3",
      "display_name": "Python 3"
    },
    "language_info": {
      "name": "python"
    }
  },
  "cells": [
    {
      "cell_type": "markdown",
      "metadata": {
        "id": "view-in-github",
        "colab_type": "text"
      },
      "source": [
        "<a href=\"https://colab.research.google.com/github/janastadtruckerova/Introduction-to-Python/blob/main/Python_%C3%BAvod_Nad%C3%A1cia_Orange_kurz1.ipynb\" target=\"_parent\"><img src=\"https://colab.research.google.com/assets/colab-badge.svg\" alt=\"Open In Colab\"/></a>"
      ]
    },
    {
      "cell_type": "code",
      "execution_count": null,
      "metadata": {
        "id": "oLJ2LVl0I6L5"
      },
      "outputs": [],
      "source": []
    },
    {
      "cell_type": "markdown",
      "source": [],
      "metadata": {
        "id": "APJv5YycI7o5"
      }
    },
    {
      "cell_type": "markdown",
      "source": [
        "**Premenné**\n"
      ],
      "metadata": {
        "id": "LgQawniYJH5I"
      }
    },
    {
      "cell_type": "markdown",
      "source": [],
      "metadata": {
        "id": "9mvb_NUVJ50r"
      }
    },
    {
      "cell_type": "code",
      "source": [
        "meno = \"Jana\"\n",
        "vek = 54\n",
        "print(f\"Moje meno je {meno}, a mám {vek} rokov.\")"
      ],
      "metadata": {
        "colab": {
          "base_uri": "https://localhost:8080/"
        },
        "id": "rkhaHiurKeHK",
        "outputId": "68d61ae9-7654-4239-81c8-567cd5202bea"
      },
      "execution_count": 5,
      "outputs": [
        {
          "output_type": "stream",
          "name": "stdout",
          "text": [
            "Moje meno je Jana, a mám 54 rokov.\n"
          ]
        }
      ]
    },
    {
      "cell_type": "markdown",
      "source": [
        "V tomto kóde používame f-string (poznáte ho podľa písmena f pred úvodzovkami), kde môžete priamo vkladať premenné do reťazca pomocou zátvoriek {}."
      ],
      "metadata": {
        "id": "XKeOCGgFL4m4"
      }
    },
    {
      "cell_type": "code",
      "source": [
        "meno = \"Jana Stadtruckerova\"\n",
        "vek = 54\n",
        "print(f\"Moje meno je {meno}, a mám {vek} rokov.\")"
      ],
      "metadata": {
        "colab": {
          "base_uri": "https://localhost:8080/"
        },
        "id": "_xlr6SW9MHXG",
        "outputId": "e92383da-205b-4c8f-d096-c2dd509b8119"
      },
      "execution_count": 6,
      "outputs": [
        {
          "output_type": "stream",
          "name": "stdout",
          "text": [
            "Moje meno je Jana Stadtruckerova, a mám 54 rokov.\n"
          ]
        }
      ]
    },
    {
      "cell_type": "markdown",
      "source": [],
      "metadata": {
        "id": "-vcqt76zVKHC"
      }
    },
    {
      "cell_type": "code",
      "source": [
        "a = 10\n",
        "b = 20\n",
        "print(a+b)\n",
        "print(a-b)\n",
        "print(a*b)"
      ],
      "metadata": {
        "colab": {
          "base_uri": "https://localhost:8080/"
        },
        "id": "9FmF2KbUMZkD",
        "outputId": "eaa1ec84-43b0-47d0-d6ff-ddfda4ed8ba0"
      },
      "execution_count": 7,
      "outputs": [
        {
          "output_type": "stream",
          "name": "stdout",
          "text": [
            "30\n",
            "-10\n",
            "200\n"
          ]
        }
      ]
    },
    {
      "cell_type": "code",
      "source": [
        "x=10\n",
        "y=20\n",
        "x=5\n",
        "y=8\n",
        "print(x,y)"
      ],
      "metadata": {
        "colab": {
          "base_uri": "https://localhost:8080/"
        },
        "id": "SwDDBxz8M6J-",
        "outputId": "ecedd0ef-52bd-41fc-930c-a7de5d71408f"
      },
      "execution_count": 8,
      "outputs": [
        {
          "output_type": "stream",
          "name": "stdout",
          "text": [
            "5 8\n"
          ]
        }
      ]
    },
    {
      "cell_type": "markdown",
      "source": [
        "Výpočet obvodu a plochykruhu"
      ],
      "metadata": {
        "id": "Nqa4itxBN9MI"
      }
    },
    {
      "cell_type": "code",
      "source": [
        "polomer = 5\n",
        "pi = 3.14159\n",
        "obvod = 2 * pi * polomer\n",
        "plocha = pi * polomer**2\n",
        "print(f\"Obvod kruhu: {obvod}, Plocha kruhu: {plocha}\")\n"
      ],
      "metadata": {
        "colab": {
          "base_uri": "https://localhost:8080/"
        },
        "id": "ksjhWiRyOCYf",
        "outputId": "b541509b-2db7-49f4-98c4-f2c85f286383"
      },
      "execution_count": 9,
      "outputs": [
        {
          "output_type": "stream",
          "name": "stdout",
          "text": [
            "Obvod kruhu: 31.4159, Plocha kruhu: 78.53975\n"
          ]
        }
      ]
    },
    {
      "cell_type": "code",
      "source": [
        "teplota_c= 20\n",
        "teplota_f= teplota_c*9/5+32\n",
        "print(f\"Teplota v Fahrenheitoch: {teplota_f}\")\n"
      ],
      "metadata": {
        "colab": {
          "base_uri": "https://localhost:8080/"
        },
        "id": "vF_4SPtNPcrv",
        "outputId": "708c31aa-c16c-47da-ac7d-3932fa25ecb7"
      },
      "execution_count": 10,
      "outputs": [
        {
          "output_type": "stream",
          "name": "stdout",
          "text": [
            "Teplota v Fahrenheitoch: 68.0\n"
          ]
        }
      ]
    },
    {
      "cell_type": "code",
      "source": [
        "a=5\n",
        "b=4\n",
        "c=10\n",
        "priemer=(a+b+c)/3\n",
        "print(priemer)\n",
        "print(f\"Priemer čísel {a}, {b} a {c} je {priemer}\")"
      ],
      "metadata": {
        "colab": {
          "base_uri": "https://localhost:8080/"
        },
        "id": "e7zimsIQQMsn",
        "outputId": "87e6f11c-93b3-4694-c5dd-83e65cf3b2d2"
      },
      "execution_count": 11,
      "outputs": [
        {
          "output_type": "stream",
          "name": "stdout",
          "text": [
            "6.333333333333333\n",
            "Priemer čísel 5, 4 a 10 je 6.333333333333333\n"
          ]
        }
      ]
    },
    {
      "cell_type": "code",
      "source": [
        "x=10\n",
        "str_x=str(x)\n",
        "float_x=float(x)\n",
        "print(str_x)\n",
        "print(float_x)"
      ],
      "metadata": {
        "colab": {
          "base_uri": "https://localhost:8080/"
        },
        "id": "s46CHKpbRIWX",
        "outputId": "291d9875-b0a6-4093-efe4-a52ff883b54b"
      },
      "execution_count": 12,
      "outputs": [
        {
          "output_type": "stream",
          "name": "stdout",
          "text": [
            "10\n",
            "10.0\n"
          ]
        }
      ]
    },
    {
      "cell_type": "code",
      "source": [
        "dni=7\n",
        "hodiny=dni*24\n",
        "print(hodiny)"
      ],
      "metadata": {
        "colab": {
          "base_uri": "https://localhost:8080/"
        },
        "id": "WUYUSVRdSFwj",
        "outputId": "ca5c5a3d-6108-4f70-939a-b01641bfb8e4"
      },
      "execution_count": 13,
      "outputs": [
        {
          "output_type": "stream",
          "name": "stdout",
          "text": [
            "168\n"
          ]
        }
      ]
    },
    {
      "cell_type": "markdown",
      "source": [
        "**Podmienky**"
      ],
      "metadata": {
        "id": "JSedTvQhhRpK"
      }
    },
    {
      "cell_type": "markdown",
      "source": [
        "Zadanie známky podľa bodov\n",
        "Vytvorte premennú body a priraďte jej hodnotu.\n",
        "Napíšte podmienku, ktorá priradí známku na základe získaných bodov:\n",
        "Body >= 90: Známka „A“\n",
        "Body >= 80: Známka „B“\n",
        "Body >= 70: Známka „C“\n",
        "Body >= 60: Známka „D“\n",
        "Menej ako 60: Známka „F“"
      ],
      "metadata": {
        "id": "so_KoFhFhUiF"
      }
    },
    {
      "cell_type": "code",
      "source": [
        "body=50\n",
        "if body>=90:\n",
        "  print(\"Známka A\")\n",
        "elif body >=80:\n",
        "    print(\"Známka B\")\n",
        "elif body>=70:\n",
        "    print(\"Známka C\")\n",
        "elif body>=60:\n",
        "      print(\"Známka D\")\n",
        "else:\n",
        "        print(\"Menej ako 60:známka F\")"
      ],
      "metadata": {
        "colab": {
          "base_uri": "https://localhost:8080/"
        },
        "id": "i5Yr49SthcVf",
        "outputId": "d674b82d-e5ea-4b2b-f657-09abfc7f3acc"
      },
      "execution_count": 14,
      "outputs": [
        {
          "output_type": "stream",
          "name": "stdout",
          "text": [
            "Menej ako 60:známka F\n"
          ]
        }
      ]
    },
    {
      "cell_type": "code",
      "source": [
        "body=input(\"Zadaj skore:\")\n",
        "if int(body)>=90:\n",
        "  print(\"Známka A\")\n",
        "elif int(body) >=80:\n",
        "    print(\"Známka B\")\n",
        "elif int(body)>=70:\n",
        "    print(\"Známka C\")\n",
        "elif int(body)>=60:\n",
        "      print(\"Známka D\")\n",
        "else:\n",
        "        print(\"Menej ako 60:známka F\")\n",
        "\n"
      ],
      "metadata": {
        "id": "2xrx-ORGjnnu",
        "colab": {
          "base_uri": "https://localhost:8080/"
        },
        "outputId": "c135a7a4-c78e-435e-8a5c-e9913db9dc40"
      },
      "execution_count": 15,
      "outputs": [
        {
          "output_type": "stream",
          "name": "stdout",
          "text": [
            "Zadaj skore:50\n",
            "Menej ako 60:známka F\n"
          ]
        }
      ]
    },
    {
      "cell_type": "markdown",
      "source": [
        "Kategorizácia veku\n",
        "Vytvorte premennú vek a priraďte jej hodnotu.\n",
        "Napíšte podmienku, ktorá rozdelí osobu do kategórie podľa veku:\n",
        "Mladší ako 18: „Neplnoletý“\n",
        "Medzi 18 a 65: „Dospelý“\n",
        "Starší ako 65: „Dôchodca“"
      ],
      "metadata": {
        "id": "16D8CmUQknp_"
      }
    },
    {
      "cell_type": "code",
      "source": [
        "vek = input(\"zadaj svoj vek:\")\n",
        "vek = int(vek)  # Convert the input to an integer\n",
        "\n",
        "if vek < 18:\n",
        "    print(\"neplnoletý\")\n",
        "elif vek >= 18 and vek <= 65:\n",
        "    print(\"dospelý\")\n",
        "else:\n",
        "    vek > 65\n",
        "    print(\"dôchodca\")"
      ],
      "metadata": {
        "id": "n-WVg40SkqRG",
        "colab": {
          "base_uri": "https://localhost:8080/"
        },
        "outputId": "b8e2f6f7-6a8d-43eb-e324-ccc08863b82b"
      },
      "execution_count": 16,
      "outputs": [
        {
          "output_type": "stream",
          "name": "stdout",
          "text": [
            "zadaj svoj vek:54\n",
            "dospelý\n"
          ]
        }
      ]
    },
    {
      "cell_type": "markdown",
      "source": [
        "Teplotná kontrola\n",
        "Vytvorte premennú teplota a priraďte jej hodnotu.\n",
        "Napíšte program, ktorý na základe teploty vypíše jednu z nasledujúcich správ:\n",
        "Teplota nad 30 stupňov: „Je veľmi horúco.“\n",
        "Teplota medzi 20 a 30 stupňov: „Je príjemne.“\n",
        "Teplota medzi 10 a 20 stupňov: „Je chladno.“\n",
        "Teplota pod 10 stupňov: „Je veľmi chladno.“"
      ],
      "metadata": {
        "id": "iFhQmQR4ou1e"
      }
    },
    {
      "cell_type": "code",
      "source": [
        "teplota=input(\"zadaj teplotu\")\n",
        "teplota=int(teplota)\n",
        "if teplota > 30:\n",
        "    print(\"Je veľmi horúco.\")\n",
        "elif 20 <= teplota <= 30:\n",
        "    print(\"Je príjemne.\")\n",
        "elif 10 <= teplota < 20:\n",
        "    print(\"Je chladno.\")\n",
        "else:\n",
        "    print(\"Je veľmi chladno.\")\n",
        "\n"
      ],
      "metadata": {
        "colab": {
          "base_uri": "https://localhost:8080/"
        },
        "id": "Op4bMeIFoy5z",
        "outputId": "3f59a0d6-adef-4720-ed62-bbc561e02572"
      },
      "execution_count": 17,
      "outputs": [
        {
          "output_type": "stream",
          "name": "stdout",
          "text": [
            "zadaj teplotu30\n",
            "Je príjemne.\n"
          ]
        }
      ]
    },
    {
      "cell_type": "markdown",
      "source": [
        "**Funkcie**"
      ],
      "metadata": {
        "id": "rQq8BM9bsT_w"
      }
    },
    {
      "cell_type": "markdown",
      "source": [
        "Zistenie, či je číslo kladné, záporné alebo nulové"
      ],
      "metadata": {
        "id": "5he53FiQPXqe"
      }
    },
    {
      "cell_type": "code",
      "source": [
        "\n",
        "cislo= 25\n",
        "def skontroluj_cislo(cislo):\n",
        "  if cislo>0:\n",
        "    return \"kladne\"\n",
        "  elif cislo<0:\n",
        "    return \"zaporne\"\n",
        "  else:\n",
        "    return \"nula\"\n",
        "print(skontroluj_cislo(cislo))\n",
        "\n",
        "\n",
        "\n"
      ],
      "metadata": {
        "id": "Kqdy38PtsWtv",
        "colab": {
          "base_uri": "https://localhost:8080/"
        },
        "outputId": "1cfba0c3-577e-403f-eb85-687f7d3c2f31"
      },
      "execution_count": 18,
      "outputs": [
        {
          "output_type": "stream",
          "name": "stdout",
          "text": [
            "kladne\n"
          ]
        }
      ]
    },
    {
      "cell_type": "markdown",
      "source": [
        "Zistenie, či môže osoba voliť"
      ],
      "metadata": {
        "id": "dR4a16tNS_CE"
      }
    },
    {
      "cell_type": "code",
      "source": [
        "def moze_volit(vek):\n",
        "  if vek>=18:\n",
        "    return True\n",
        "  else:\n",
        "    return False\n",
        "vek=25\n",
        "print(moze_volit(vek))\n"
      ],
      "metadata": {
        "colab": {
          "base_uri": "https://localhost:8080/"
        },
        "id": "OKSgp8-rTGBE",
        "outputId": "930e1a73-424e-4b19-f096-c4782f07729b"
      },
      "execution_count": 19,
      "outputs": [
        {
          "output_type": "stream",
          "name": "stdout",
          "text": [
            "True\n"
          ]
        }
      ]
    },
    {
      "cell_type": "markdown",
      "source": [
        "Najdi väčšie z dvoch čísel"
      ],
      "metadata": {
        "id": "z-eCt0ryT8yq"
      }
    },
    {
      "cell_type": "code",
      "source": [
        "def najdi_vacsie(cislo1, cislo2):\n",
        "    if cislo1 > cislo2:\n",
        "        return cislo1\n",
        "    else:\n",
        "        return cislo2\n",
        "\n",
        "# Priradenie hodnôt a volanie funkcie\n",
        "cislo1 = 10\n",
        "cislo2 = 5\n",
        "print(najdi_vacsie(cislo1, cislo2))  # Výstup: 10"
      ],
      "metadata": {
        "colab": {
          "base_uri": "https://localhost:8080/"
        },
        "id": "vecDcZe0UHbO",
        "outputId": "57901412-2721-410e-9c62-c5e7cd2e3ea4"
      },
      "execution_count": 20,
      "outputs": [
        {
          "output_type": "stream",
          "name": "stdout",
          "text": [
            "10\n"
          ]
        }
      ]
    },
    {
      "cell_type": "markdown",
      "source": [
        "Zistenie, či je rok priestupný"
      ],
      "metadata": {
        "id": "7nbRbgIDVj7h"
      }
    },
    {
      "cell_type": "code",
      "source": [
        "def je_priestupny_rok(rok):\n",
        "    if rok % 4 == 0:\n",
        "        if rok % 100 == 0:\n",
        "            if rok % 400 == 0:\n",
        "                return True\n",
        "            else:\n",
        "                return False\n",
        "        else:\n",
        "            return True\n",
        "    else:\n",
        "        return False\n",
        "\n",
        "# Test funkcie\n",
        "print(je_priestupny_rok(2020))  # True\n",
        "print(je_priestupny_rok(1900))  # False\n",
        "print(je_priestupny_rok(2000))  # True"
      ],
      "metadata": {
        "colab": {
          "base_uri": "https://localhost:8080/"
        },
        "id": "a0Sfck67VtyV",
        "outputId": "ec99c7c8-8ceb-4f21-def3-b09a1fe09302"
      },
      "execution_count": 21,
      "outputs": [
        {
          "output_type": "stream",
          "name": "stdout",
          "text": [
            "True\n",
            "False\n",
            "True\n"
          ]
        }
      ]
    },
    {
      "cell_type": "markdown",
      "source": [
        "Zisťovanie vekovej kategórie"
      ],
      "metadata": {
        "id": "NED5tmBFXYKc"
      }
    },
    {
      "cell_type": "code",
      "source": [
        "def vekova_kategoria(vek):\n",
        "    if vek < 13:\n",
        "        return \"Dieťa\"\n",
        "    elif vek <= 19:\n",
        "        return \"Tínedžer\"\n",
        "    else:\n",
        "        return \"Dospelý\"\n",
        "\n",
        "# Test funkcie\n",
        "print(vekova_kategoria(10))  # Dieťa\n",
        "print(vekova_kategoria(15))  # Tínedžer\n",
        "print(vekova_kategoria(25))  # Dospelý"
      ],
      "metadata": {
        "colab": {
          "base_uri": "https://localhost:8080/"
        },
        "id": "PRRQHze4XcNk",
        "outputId": "17095aed-9253-46e7-ebc5-840750115b54"
      },
      "execution_count": 22,
      "outputs": [
        {
          "output_type": "stream",
          "name": "stdout",
          "text": [
            "Dieťa\n",
            "Tínedžer\n",
            "Dospelý\n"
          ]
        }
      ]
    }
  ]
}