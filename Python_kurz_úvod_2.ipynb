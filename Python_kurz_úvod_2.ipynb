{
  "nbformat": 4,
  "nbformat_minor": 0,
  "metadata": {
    "colab": {
      "provenance": [],
      "authorship_tag": "ABX9TyNvX7Sq2wEvyi8ABlis+HLP",
      "include_colab_link": true
    },
    "kernelspec": {
      "name": "python3",
      "display_name": "Python 3"
    },
    "language_info": {
      "name": "python"
    }
  },
  "cells": [
    {
      "cell_type": "markdown",
      "metadata": {
        "id": "view-in-github",
        "colab_type": "text"
      },
      "source": [
        "<a href=\"https://colab.research.google.com/github/janastadtruckerova/Introduction-to-Python/blob/main/Python_kurz_%C3%BAvod_2.ipynb\" target=\"_parent\"><img src=\"https://colab.research.google.com/assets/colab-badge.svg\" alt=\"Open In Colab\"/></a>"
      ]
    },
    {
      "cell_type": "code",
      "execution_count": null,
      "metadata": {
        "id": "80oeswJsk_3W"
      },
      "outputs": [],
      "source": []
    },
    {
      "cell_type": "markdown",
      "source": [
        "**Cyklus for**"
      ],
      "metadata": {
        "id": "D4fyDzx6lGm_"
      }
    },
    {
      "cell_type": "markdown",
      "source": [
        "Vytlačí čisla od 1 po 10"
      ],
      "metadata": {
        "id": "FT3YEYzHmzyX"
      }
    },
    {
      "cell_type": "code",
      "source": [
        "numbers=(1,2,3,4,5,6,7,8,9,10)\n",
        "for i in numbers:\n",
        "      print(i)"
      ],
      "metadata": {
        "colab": {
          "base_uri": "https://localhost:8080/"
        },
        "id": "47lK4rjblL63",
        "outputId": "eabe3ac4-9380-428e-d986-f1bd3a84c53d"
      },
      "execution_count": null,
      "outputs": [
        {
          "output_type": "stream",
          "name": "stdout",
          "text": [
            "1\n",
            "2\n",
            "3\n",
            "4\n",
            "5\n",
            "6\n",
            "7\n",
            "8\n",
            "9\n",
            "10\n"
          ]
        }
      ]
    },
    {
      "cell_type": "markdown",
      "source": [
        "Súčet čísel"
      ],
      "metadata": {
        "id": "zSMmOzm_m6DO"
      }
    },
    {
      "cell_type": "code",
      "source": [
        "sucet=0\n",
        "numbers=range(1,101)\n",
        "for i in numbers:\n",
        "    sucet += i\n",
        "print(\"Súčet čísel od 1 do 100 je:\", sucet)\n",
        "\n"
      ],
      "metadata": {
        "colab": {
          "base_uri": "https://localhost:8080/"
        },
        "id": "DvX2jkB2mg7k",
        "outputId": "0efe1a7b-92ad-4bf7-88a7-bec3b6759a50"
      },
      "execution_count": null,
      "outputs": [
        {
          "output_type": "stream",
          "name": "stdout",
          "text": [
            "Súčet čísel od 1 do 100 je: 5050\n"
          ]
        }
      ]
    },
    {
      "cell_type": "markdown",
      "source": [
        "Vytlač prvky zoznamu"
      ],
      "metadata": {
        "id": "XshKthpUo-Su"
      }
    },
    {
      "cell_type": "code",
      "source": [
        "mena = [\"Anna\", \"Jozef\", \"Peter\", \"Eva\", \"Mária\"]\n",
        "for meno in mena:\n",
        "    print(meno)"
      ],
      "metadata": {
        "colab": {
          "base_uri": "https://localhost:8080/"
        },
        "id": "IuTTZLZKpDR9",
        "outputId": "c04027c3-e85e-4f49-9a53-20575e35310d"
      },
      "execution_count": null,
      "outputs": [
        {
          "output_type": "stream",
          "name": "stdout",
          "text": [
            "Anna\n",
            "Jozef\n",
            "Peter\n",
            "Eva\n",
            "Mária\n"
          ]
        }
      ]
    },
    {
      "cell_type": "markdown",
      "source": [
        "Násobková tabuľka"
      ],
      "metadata": {
        "id": "2L9eDPIMpv6S"
      }
    },
    {
      "cell_type": "code",
      "source": [
        "cislo = int(input(\"Zadaj číslo: \"))\n",
        "for i in range(1, 11):\n",
        "    vysledok = cislo * i\n",
        "    print(f\"{cislo} x {i} = {vysledok}\")"
      ],
      "metadata": {
        "colab": {
          "base_uri": "https://localhost:8080/"
        },
        "id": "hHud3NjdpzyX",
        "outputId": "58328b7a-c6ee-4991-d123-732aaf365818"
      },
      "execution_count": null,
      "outputs": [
        {
          "output_type": "stream",
          "name": "stdout",
          "text": [
            "Zadaj číslo: 4\n",
            "4 x 1 = 4\n",
            "4 x 2 = 8\n",
            "4 x 3 = 12\n",
            "4 x 4 = 16\n",
            "4 x 5 = 20\n",
            "4 x 6 = 24\n",
            "4 x 7 = 28\n",
            "4 x 8 = 32\n",
            "4 x 9 = 36\n",
            "4 x 10 = 40\n"
          ]
        }
      ]
    },
    {
      "cell_type": "markdown",
      "source": [
        "faktoriál"
      ],
      "metadata": {
        "id": "5aBxYyNLrU08"
      }
    },
    {
      "cell_type": "code",
      "source": [
        "cislo = int(input(\"zadaj číslo:\"))\n",
        "faktorial = 1\n",
        "for i in range(1, cislo + 1):\n",
        "    faktorial *= i\n",
        "    print(f\"Faktoriál čísla {cislo} je: {faktorial}\")"
      ],
      "metadata": {
        "colab": {
          "base_uri": "https://localhost:8080/"
        },
        "id": "BlApz0o3rXYU",
        "outputId": "2f28dc61-3eba-42f8-e743-99b1add41141"
      },
      "execution_count": null,
      "outputs": [
        {
          "output_type": "stream",
          "name": "stdout",
          "text": [
            "zadaj číslo:5\n",
            "Faktoriál čísla 5 je: 1\n",
            "Faktoriál čísla 5 je: 2\n",
            "Faktoriál čísla 5 je: 6\n",
            "Faktoriál čísla 5 je: 24\n",
            "Faktoriál čísla 5 je: 120\n"
          ]
        }
      ]
    }
  ]
}